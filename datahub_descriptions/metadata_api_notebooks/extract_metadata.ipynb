{
 "cells": [
  {
   "cell_type": "markdown",
   "metadata": {},
   "source": [
    "# Querying DataHub with REST API\n",
    "\n",
    "This notebook will aim to show some ways of querying of the ways to query DataHub through the REST API."
   ]
  },
  {
   "cell_type": "code",
   "execution_count": null,
   "metadata": {},
   "outputs": [],
   "source": [
    "# Set the environment variables we need\n",
    "base_url = 'http://localhost:9002' # Location of DataHub\n",
    "token = 'TOKEN' # Get your token from Settings or ask an admin to do it for you"
   ]
  },
  {
   "cell_type": "code",
   "execution_count": null,
   "metadata": {},
   "outputs": [],
   "source": [
    "# GET ENTITY\n",
    "\n",
    "import requests\n",
    "from urllib.parse import quote\n",
    "\n",
    "# Set the urn for the entity you will be looking at \n",
    "# (you can find it in the url in DataHub, it should be in the following format)\n",
    "urn = 'urn:li:dataset:(urn:li:dataPlatform:mssql,ekofisk.RECubeDataRelease.dbo.vDataFeed_UCube_Asset,DEV)'\n",
    "\n",
    "# Endpoint for GET request\n",
    "endpoint = f'/openapi/entities/v1/latest?urns={quote(urn)}'\n",
    "\n",
    "url = f\"{base_url}{endpoint}\"\n",
    "\n",
    "headers = {\n",
    "    \"Authorization\": f\"Bearer {token}\",\n",
    "    \"Content-Type\": \"application/json\"\n",
    "}\n",
    "\n",
    "response = requests.get(\n",
    "    url=url,\n",
    "    headers=headers\n",
    ")\n"
   ]
  },
  {
   "cell_type": "code",
   "execution_count": null,
   "metadata": {},
   "outputs": [],
   "source": [
    "response"
   ]
  },
  {
   "cell_type": "code",
   "execution_count": null,
   "metadata": {},
   "outputs": [],
   "source": [
    "response.json()"
   ]
  },
  {
   "cell_type": "code",
   "execution_count": null,
   "metadata": {},
   "outputs": [],
   "source": [
    "# Let's extract the descriptions for the columns for this response\n",
    "response_dict = response.json()\n",
    "\n",
    "column_desc = response_dict['responses'][urn]['aspects']['editableSchemaMetadata']['value']['editableSchemaFieldInfo']"
   ]
  },
  {
   "cell_type": "code",
   "execution_count": null,
   "metadata": {},
   "outputs": [],
   "source": [
    "column_desc"
   ]
  },
  {
   "cell_type": "markdown",
   "metadata": {},
   "source": [
    "As we can see, column_desc is now a list of dictionaries with 'fieldPath' holding the name of the column, and 'description' holding the description.\n",
    "\n",
    "From the response of our query, we can also get a wide range of other metadata - one that may be useful is the column types."
   ]
  },
  {
   "cell_type": "code",
   "execution_count": null,
   "metadata": {},
   "outputs": [],
   "source": [
    "# Let's now get the other metadata for the columns, which is obtained on ingestion\n",
    "\n",
    "column_types = response_dict['responses'][urn]['aspects']['schemaMetadata']['value']['fields']"
   ]
  },
  {
   "cell_type": "code",
   "execution_count": null,
   "metadata": {},
   "outputs": [],
   "source": [
    "column_types"
   ]
  },
  {
   "cell_type": "markdown",
   "metadata": {},
   "source": [
    "Here we get another list of dictionaries, containing the column type information.\n",
    "\n",
    "Now let's get the table descriptions."
   ]
  },
  {
   "cell_type": "code",
   "execution_count": null,
   "metadata": {},
   "outputs": [],
   "source": [
    "# # Let's now get the table description\n",
    "\n",
    "table_description = response_dict['responses'][urn]['aspects']['editableDatasetProperties']['value']['description']"
   ]
  },
  {
   "cell_type": "code",
   "execution_count": null,
   "metadata": {},
   "outputs": [],
   "source": [
    "table_description"
   ]
  },
  {
   "cell_type": "code",
   "execution_count": null,
   "metadata": {},
   "outputs": [],
   "source": []
  }
 ],
 "metadata": {
  "kernelspec": {
   "display_name": "Python 3",
   "language": "python",
   "name": "python3"
  },
  "language_info": {
   "codemirror_mode": {
    "name": "ipython",
    "version": 3
   },
   "file_extension": ".py",
   "mimetype": "text/x-python",
   "name": "python",
   "nbconvert_exporter": "python",
   "pygments_lexer": "ipython3",
   "version": "3.10.6"
  }
 },
 "nbformat": 4,
 "nbformat_minor": 2
}
