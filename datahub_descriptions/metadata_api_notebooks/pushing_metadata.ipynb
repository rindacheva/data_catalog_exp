{
 "cells": [
  {
   "cell_type": "markdown",
   "metadata": {},
   "source": [
    "# Pushing Metadata to DataHub through the API\n",
    "\n",
    "This notebook will cover how to push metadata to DataHub through the API. For this case we will use the Python Emitter class.\n",
    "\n",
    "The functions that are shown here are used in populate_descriptions.py, in the modules folder."
   ]
  },
  {
   "cell_type": "markdown",
   "metadata": {},
   "source": [
    "An important thing to note before pushing table & column descriptions! Once you push these descriptions to DataHub you will replace any table or column descriptions currently in place. \n",
    "\n",
    "Especially with column descriptions - even if you are pushing a description for only one column, the emitter will replace all other column descriptions with blanks."
   ]
  },
  {
   "cell_type": "code",
   "execution_count": null,
   "metadata": {},
   "outputs": [],
   "source": [
    "# Import modules\n",
    "from datahub.emitter.rest_emitter import DatahubRestEmitter\n",
    "from datahub.metadata.schema_classes import (\n",
    "    DatasetSnapshotClass,\n",
    "    MetadataChangeEventClass,\n",
    "    EditableSchemaMetadataClass,\n",
    "    EditableDatasetPropertiesClass,\n",
    ")\n",
    "import requests\n",
    "import pandas as pd\n",
    "import logging\n",
    "\n",
    "# Configure logging\n",
    "logging.basicConfig(level=logging.INFO, format='%(asctime)s - %(levelname)s - %(message)s')"
   ]
  },
  {
   "cell_type": "code",
   "execution_count": null,
   "metadata": {},
   "outputs": [],
   "source": [
    "# Set the environment variables we need\n",
    "gms_server = 'http://localhost:8080' # In this case we have to use the 8080 port for populating data\n",
    "token = 'TOKEN' # Get your token from Settings or ask an admin to do it for you if you are using the on premise deployment"
   ]
  },
  {
   "cell_type": "code",
   "execution_count": null,
   "metadata": {},
   "outputs": [],
   "source": [
    "# We define our function for emitting table descriptions.\n",
    "\n",
    "def table_desc_emitter(gms_server: str, token:str, urn: str, table_description: str) -> None:\n",
    "    \"\"\" \n",
    "    Function to emit metadata to PROD environement.\n",
    "\n",
    "    Input:\n",
    "    - gms_server        : the host for DataHub\n",
    "    - token             : authentication token\n",
    "    - urn               : the PRODUCTION urn we will be pushing to \n",
    "    - table_description : description of the table gorgeous\n",
    "\n",
    "    Output:\n",
    "    - None, emits metadata\n",
    "\n",
    "    \"\"\"\n",
    "    try:\n",
    "        logging.info(\"Emitting table description for URN: %s\", urn)\n",
    "        emitter = DatahubRestEmitter(gms_server=gms_server, token=token)\n",
    "\n",
    "        editable_dataset_properties_aspect = EditableDatasetPropertiesClass(\n",
    "            description=table_description\n",
    "        )\n",
    "\n",
    "        dataset_snapshot = DatasetSnapshotClass(\n",
    "            urn=urn,\n",
    "            aspects=[\n",
    "                editable_dataset_properties_aspect,\n",
    "            ]\n",
    "        )\n",
    "\n",
    "        mce = MetadataChangeEventClass(proposedSnapshot=dataset_snapshot)\n",
    "\n",
    "        emitter.emit(mce)\n",
    "        emitter.close()\n",
    "        logging.info(\"Successfully emitted table description metadata\")\n",
    "\n",
    "    except Exception as e:\n",
    "        logging.error(\"Error emitting table description for URN %s: %s\", urn, e)"
   ]
  },
  {
   "cell_type": "code",
   "execution_count": null,
   "metadata": {},
   "outputs": [],
   "source": [
    "# Set the urn for the entity you will be adding metadata to\n",
    "# (you can find it in the url in DataHub, it should be in the following format)\n",
    "\n",
    "urn = 'urn:li:dataset:(urn:li:dataPlatform:mssql,server.db.schema.table,DEV)'\n",
    "\n",
    "# Let's also set some table description\n",
    "table_description = \"Placeholder description for testing <3\"\n",
    "\n",
    "# Call the function\n",
    "table_desc_emitter(gms_server=gms_server,\n",
    "                   token=token,\n",
    "                   urn=urn,\n",
    "                   table_description=table_description)"
   ]
  },
  {
   "cell_type": "markdown",
   "metadata": {},
   "source": [
    "We have successfully pushed a table description to DataHub :)\n",
    "\n",
    "Now let's see how it works with column descriptions."
   ]
  },
  {
   "cell_type": "code",
   "execution_count": null,
   "metadata": {},
   "outputs": [],
   "source": [
    "# We define our function for emitting column descriptions\n",
    "\n",
    "def column_desc_emitter(gms_server: str, token:str, urn:str, column_dict: dict[str, str]) -> None:\n",
    "\n",
    "    \"\"\" \n",
    "    Function to emit metadata to PROD environement.\n",
    "\n",
    "    Input:\n",
    "    - gms_server  : the host for DataHub\n",
    "    - token       : authentication token\n",
    "    - urn         : the PRODUCTION urn we will be pushing to\n",
    "    - column_dict : a dictionary of column names and their associated descriptions bestie\n",
    "\n",
    "    Output:\n",
    "    - None\n",
    "\n",
    "    \"\"\"\n",
    "    try:\n",
    "        logging.info(\"Emitting column descriptions for URN: %s\", urn)\n",
    "        emitter = DatahubRestEmitter(gms_server=gms_server, token=token)\n",
    "\n",
    "        data_to_push = []\n",
    "        for column_name, column_description in column_dict.items():\n",
    "            column_data = {\n",
    "                \"fieldPath\": column_name,\n",
    "                \"description\": column_description\n",
    "            }\n",
    "            data_to_push.append(column_data)\n",
    "\n",
    "        editable_schema_metadata_aspect = EditableSchemaMetadataClass(\n",
    "            editableSchemaFieldInfo=data_to_push\n",
    "        )\n",
    "\n",
    "        dataset_snapshot = DatasetSnapshotClass(\n",
    "            urn=urn,\n",
    "            aspects=[\n",
    "                editable_schema_metadata_aspect,\n",
    "            ]\n",
    "        )\n",
    "\n",
    "        mce = MetadataChangeEventClass(proposedSnapshot=dataset_snapshot)\n",
    "\n",
    "        emitter.emit(mce)\n",
    "        emitter.close()\n",
    "        logging.info(\"Successfully emitted column description metadata.\")\n",
    "\n",
    "    except Exception as e:\n",
    "        logging.error(\"Error emitting column descriptions for URN %s: %s\", urn, e)"
   ]
  },
  {
   "cell_type": "code",
   "execution_count": null,
   "metadata": {},
   "outputs": [],
   "source": [
    "# Let's use the same URN as before\n",
    "urn = 'urn:li:dataset:(urn:li:dataPlatform:mssql,server.db.schema.table,DEV)'\n",
    "\n",
    "# Now let's set some column descriptions for the columns in this table\n",
    "column_descriptions = {'Id':'some description for Id', \n",
    "                       'FK_test': 'some description for FK_test'}\n",
    "\n",
    "# And now we call the function:\n",
    "column_desc_emitter(gms_server=gms_server,\n",
    "                    token=token,\n",
    "                    urn=urn,\n",
    "                    column_dict=column_descriptions)"
   ]
  },
  {
   "cell_type": "markdown",
   "metadata": {},
   "source": []
  }
 ],
 "metadata": {
  "kernelspec": {
   "display_name": "Python 3",
   "language": "python",
   "name": "python3"
  },
  "language_info": {
   "codemirror_mode": {
    "name": "ipython",
    "version": 3
   },
   "file_extension": ".py",
   "mimetype": "text/x-python",
   "name": "python",
   "nbconvert_exporter": "python",
   "pygments_lexer": "ipython3",
   "version": "3.10.6"
  }
 },
 "nbformat": 4,
 "nbformat_minor": 2
}
