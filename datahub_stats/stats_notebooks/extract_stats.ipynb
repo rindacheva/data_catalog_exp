{
 "cells": [
  {
   "cell_type": "markdown",
   "metadata": {},
   "source": [
    "# Notebook to extract statistics from DataHub\n",
    "\n",
    "In this notebook, we will explore how to get stats from DataHub, specifically for DataHub views.\n",
    "\n",
    "For this example we will be using vDataFeed_UCube_AssetsCompany, ingested locally. To use this for on-premise entities change the config file accordingly."
   ]
  },
  {
   "cell_type": "code",
   "execution_count": null,
   "metadata": {},
   "outputs": [],
   "source": [
    "# Set the urn of the entity here\n",
    "urn = 'urn:li:dataset:(urn:li:dataPlatform:mssql,server.db.schema.table,DEV)'\n"
   ]
  },
  {
   "cell_type": "code",
   "execution_count": null,
   "metadata": {},
   "outputs": [],
   "source": [
    "import logging\n",
    "import configparser\n",
    "\n",
    "logging.basicConfig(level=logging.INFO, format='%(asctime)s - %(levelname)s - %(message)s')\n",
    "\n",
    "config = configparser.ConfigParser()\n",
    "config.read('src/config.conf')\n",
    "\n",
    "# Set the environment variables we need\n",
    "\n",
    "gms_server = config['DATAHUB']['gms_server']\n",
    "base_url = config['DATAHUB']['base_url']\n",
    "token = config['DATAHUB']['token']"
   ]
  },
  {
   "cell_type": "code",
   "execution_count": null,
   "metadata": {},
   "outputs": [],
   "source": [
    "# GET Table DatasetFieldProfile using GraphiQL\n",
    "\n",
    "import requests\n",
    "\n",
    "endpoint = f'{gms_server}/api/graphql'\n",
    "\n",
    "query = f\"\"\"\n",
    "query {{\n",
    "  dataset(urn:\"{urn}\")\n",
    "  {{\n",
    "    datasetProfiles{{\n",
    "      fieldProfiles{{\n",
    "        fieldPath\n",
    "        uniqueCount\n",
    "        uniqueProportion\n",
    "        nullCount\n",
    "        min\n",
    "        max\n",
    "        mean\n",
    "        median\n",
    "        stdev\n",
    "        sampleValues\n",
    "      }}\n",
    "    }}\n",
    "  }}\n",
    "}}\"\"\"\n",
    "\n",
    "headers = {\n",
    "    \"Authorization\": f\"Bearer {token}\",\n",
    "    \"Content-Type\": \"application/json\"\n",
    "}\n",
    "\n",
    "response = requests.post(endpoint, \n",
    "                         headers=headers,\n",
    "                         json={'query': query})\n"
   ]
  },
  {
   "cell_type": "markdown",
   "metadata": {},
   "source": [
    "In the response (as you can see below), there is the information for each column (fieldPath), and its related stats values"
   ]
  },
  {
   "cell_type": "code",
   "execution_count": null,
   "metadata": {},
   "outputs": [],
   "source": [
    "response.json()"
   ]
  },
  {
   "cell_type": "markdown",
   "metadata": {},
   "source": [
    "Below we extract this information as a pandas df.\n",
    "\n",
    "First, let's to it for min and max."
   ]
  },
  {
   "cell_type": "code",
   "execution_count": null,
   "metadata": {},
   "outputs": [],
   "source": [
    "import pandas as pd\n",
    "\n",
    "data = response.json()\n",
    "\n",
    "# Extract the data\n",
    "field_profiles = data['data']['dataset']['datasetProfiles'][0]['fieldProfiles']\n",
    "df = pd.DataFrame(field_profiles)\n",
    "\n",
    "# Rename the columns\n",
    "df_fin = df.rename(columns={'fieldPath': 'column_name', 'min': 'min_val', 'max': 'max_val'})[['column_name', 'min_val', 'max_val']]\n",
    "\n",
    "df_fin"
   ]
  },
  {
   "cell_type": "markdown",
   "metadata": {},
   "source": [
    "Now we can do the same for sample values."
   ]
  },
  {
   "cell_type": "code",
   "execution_count": null,
   "metadata": {},
   "outputs": [],
   "source": [
    "import pandas as pd\n",
    "\n",
    "data = response.json()\n",
    "\n",
    "# Extract the data\n",
    "field_profiles = data['data']['dataset']['datasetProfiles'][0]['fieldProfiles']\n",
    "df = pd.DataFrame(field_profiles)\n",
    "\n",
    "# Rename the columns\n",
    "df_fin = df.rename(columns={'fieldPath': 'column_name', 'sampleValues': 'sample_values'})[['column_name', 'sample_values']]\n",
    "\n",
    "df_fin"
   ]
  },
  {
   "cell_type": "code",
   "execution_count": null,
   "metadata": {},
   "outputs": [],
   "source": [
    "# Getting a specific value\n",
    "\n",
    "print(df_fin.loc[40, 'sample_values'])\n"
   ]
  },
  {
   "cell_type": "code",
   "execution_count": null,
   "metadata": {},
   "outputs": [],
   "source": [
    "# Getting the count of how many sample values there are in each list\n",
    "\n",
    "df_fin['sample_size'] = df_fin['sample_values'].apply(lambda x: len(x) if x is not None else 0)\n"
   ]
  },
  {
   "cell_type": "code",
   "execution_count": null,
   "metadata": {},
   "outputs": [],
   "source": [
    "df_fin"
   ]
  },
  {
   "cell_type": "code",
   "execution_count": null,
   "metadata": {},
   "outputs": [],
   "source": []
  }
 ],
 "metadata": {
  "kernelspec": {
   "display_name": "Python 3",
   "language": "python",
   "name": "python3"
  },
  "language_info": {
   "codemirror_mode": {
    "name": "ipython",
    "version": 3
   },
   "file_extension": ".py",
   "mimetype": "text/x-python",
   "name": "python",
   "nbconvert_exporter": "python",
   "pygments_lexer": "ipython3",
   "version": "3.10.6"
  }
 },
 "nbformat": 4,
 "nbformat_minor": 2
}
